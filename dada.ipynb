{
 "cells": [
  {
   "cell_type": "code",
   "execution_count": 9,
   "metadata": {},
   "outputs": [],
   "source": [
    "data=\"Nf3Nh62.a4b63.Ng5f54.g3c65.h4Qc76.g4Ng87.Rg1Kd88.Nxh7f49.Bh3Qe510.Nc3Qb511.Nf6Qh512.Nxh5g513.d3a514.Ra2Bh615.hxg5c516.e3Rh717.f3Rh818.Kf2Na619.Qe2e620.e4Nf621.Re1Nb822.Bg2Kc723.Nb1e524.Nc3Ra725.Nd5+Kc626.Ndxf4Ra827.Qe3Kb728.gxh6Nxh529.Rd1Nc630.Ke1Rf831.c4Rd832.Ke2Ne733.Rf1Kb834.Qxc5Nc635.Be3Kc736.Rfa1bxc537.Bf2Ng738.Rh1d539.Rh2Ra640.b3\""
   ]
  },
  {
   "cell_type": "code",
   "execution_count": 10,
   "metadata": {},
   "outputs": [],
   "source": [
    "data=data.split('.')"
   ]
  },
  {
   "cell_type": "code",
   "execution_count": 11,
   "metadata": {},
   "outputs": [
    {
     "data": {
      "text/plain": [
       "['Nf3Nh62',\n",
       " 'a4b63',\n",
       " 'Ng5f54',\n",
       " 'g3c65',\n",
       " 'h4Qc76',\n",
       " 'g4Ng87',\n",
       " 'Rg1Kd88',\n",
       " 'Nxh7f49',\n",
       " 'Bh3Qe510',\n",
       " 'Nc3Qb511',\n",
       " 'Nf6Qh512',\n",
       " 'Nxh5g513',\n",
       " 'd3a514',\n",
       " 'Ra2Bh615',\n",
       " 'hxg5c516',\n",
       " 'e3Rh717',\n",
       " 'f3Rh818',\n",
       " 'Kf2Na619',\n",
       " 'Qe2e620',\n",
       " 'e4Nf621',\n",
       " 'Re1Nb822',\n",
       " 'Bg2Kc723',\n",
       " 'Nb1e524',\n",
       " 'Nc3Ra725',\n",
       " 'Nd5+Kc626',\n",
       " 'Ndxf4Ra827',\n",
       " 'Qe3Kb728',\n",
       " 'gxh6Nxh529',\n",
       " 'Rd1Nc630',\n",
       " 'Ke1Rf831',\n",
       " 'c4Rd832',\n",
       " 'Ke2Ne733',\n",
       " 'Rf1Kb834',\n",
       " 'Qxc5Nc635',\n",
       " 'Be3Kc736',\n",
       " 'Rfa1bxc537',\n",
       " 'Bf2Ng738',\n",
       " 'Rh1d539',\n",
       " 'Rh2Ra640',\n",
       " 'b3']"
      ]
     },
     "execution_count": 11,
     "metadata": {},
     "output_type": "execute_result"
    }
   ],
   "source": [
    "data=data."
   ]
  },
  {
   "cell_type": "code",
   "execution_count": 15,
   "metadata": {},
   "outputs": [],
   "source": [
    "from string import digits\n",
    "\n",
    "for i in range(0,len(data)):\n",
    "    data[i] = data[i].translate(digits)"
   ]
  },
  {
   "cell_type": "code",
   "execution_count": 17,
   "metadata": {},
   "outputs": [],
   "source": [
    "k=\"\"\n",
    "for i in data:\n",
    "    k=k+i"
   ]
  },
  {
   "cell_type": "code",
   "execution_count": 18,
   "metadata": {},
   "outputs": [
    {
     "data": {
      "text/plain": [
       "'Nf3Nh62a4b63Ng5f54g3c65h4Qc76g4Ng87Rg1Kd88Nxh7f49Bh3Qe510Nc3Qb511Nf6Qh512Nxh5g513d3a514Ra2Bh615hxg5c516e3Rh717f3Rh818Kf2Na619Qe2e620e4Nf621Re1Nb822Bg2Kc723Nb1e524Nc3Ra725Nd5+Kc626Ndxf4Ra827Qe3Kb728gxh6Nxh529Rd1Nc630Ke1Rf831c4Rd832Ke2Ne733Rf1Kb834Qxc5Nc635Be3Kc736Rfa1bxc537Bf2Ng738Rh1d539Rh2Ra640b3'"
      ]
     },
     "execution_count": 18,
     "metadata": {},
     "output_type": "execute_result"
    }
   ],
   "source": [
    "k"
   ]
  },
  {
   "cell_type": "code",
   "execution_count": 5,
   "metadata": {},
   "outputs": [],
   "source": [
    "import chess\n",
    "import numpy as np"
   ]
  },
  {
   "cell_type": "code",
   "execution_count": 2,
   "metadata": {},
   "outputs": [],
   "source": [
    "board=chess.Board()"
   ]
  },
  {
   "cell_type": "code",
   "execution_count": 24,
   "metadata": {},
   "outputs": [
    {
     "name": "stdout",
     "output_type": "stream",
     "text": [
      "r n b q k b n r\n",
      "p p p p p p p p\n",
      ". . . . . . . .\n",
      ". . . . . . . .\n",
      ". . . . . . . .\n",
      ". . . . . . . .\n",
      "P P P P P P P P\n",
      "R N B Q K B N R\n"
     ]
    }
   ],
   "source": [
    "print(board)"
   ]
  },
  {
   "cell_type": "code",
   "execution_count": 3,
   "metadata": {},
   "outputs": [],
   "source": [
    "fen=board.fen()"
   ]
  },
  {
   "cell_type": "code",
   "execution_count": 25,
   "metadata": {},
   "outputs": [
    {
     "name": "stdout",
     "output_type": "stream",
     "text": [
      "[['bR', 'bN', 'bB', 'bQ', 'bK', 'bB', 'bN', 'bR'],\n",
      " ['bp', 'bp', 'bp', 'bp', 'bp', 'bp', 'bp', 'bp'],\n",
      " ['--', '--', '--', '--', '--', '--', '--', '--'],\n",
      " ['--', '--', '--', '--', '--', '--', '--', '--'],\n",
      " ['--', '--', '--', '--', '--', '--', '--', '--'],\n",
      " ['--', '--', '--', '--', '--', '--', '--', '--'],\n",
      " ['wp', 'wp', 'wp', 'wp', 'wp', 'wp', 'wp', 'wp'],\n",
      " ['wR', 'wN', 'wB', 'wQ', 'wK', 'wB', 'wN', 'wR']]\n"
     ]
    }
   ],
   "source": [
    "def fen_to_board(fen):\n",
    "    board = []\n",
    "    for row in fen.split('/'):\n",
    "        brow = []\n",
    "        for c in row:\n",
    "            if c == ' ':\n",
    "                break\n",
    "            elif c in '12345678':\n",
    "                brow.extend( ['--'] * int(c) )\n",
    "            elif c == 'p':\n",
    "                brow.append( 'bp' )\n",
    "            elif c == 'P':\n",
    "                brow.append( 'wp' )\n",
    "            elif c > 'Z':\n",
    "                brow.append( 'b'+c.upper() )\n",
    "            else:\n",
    "                brow.append( 'w'+c )\n",
    "\n",
    "        board.append( brow )\n",
    "    return board\n"
   ]
  },
  {
   "cell_type": "code",
   "execution_count": 27,
   "metadata": {},
   "outputs": [],
   "source": [
    "text=fen_to_board(fen)"
   ]
  },
  {
   "cell_type": "code",
   "execution_count": 29,
   "metadata": {},
   "outputs": [],
   "source": [
    "from tensorflow.keras.preprocessing.text import Tokenizer\n",
    "tokenizer=Tokenizer()\n",
    "tokenizer.fit_on_texts(text)\n",
    "word_index=tokenizer.word_index\n",
    "text=tokenizer.texts_to_sequences(text)"
   ]
  },
  {
   "cell_type": "code",
   "execution_count": 30,
   "metadata": {},
   "outputs": [
    {
     "name": "stdout",
     "output_type": "stream",
     "text": [
      "[[4, 5, 6, 10, 11, 6, 5, 4], [2, 2, 2, 2, 2, 2, 2, 2], [1, 1, 1, 1, 1, 1, 1, 1], [1, 1, 1, 1, 1, 1, 1, 1], [1, 1, 1, 1, 1, 1, 1, 1], [1, 1, 1, 1, 1, 1, 1, 1], [3, 3, 3, 3, 3, 3, 3, 3], [7, 8, 9, 12, 13, 9, 8, 7]]\n"
     ]
    }
   ],
   "source": [
    "print(text)"
   ]
  },
  {
   "cell_type": "code",
   "execution_count": 31,
   "metadata": {},
   "outputs": [],
   "source": [
    "text=np.array(text)"
   ]
  },
  {
   "cell_type": "code",
   "execution_count": 33,
   "metadata": {},
   "outputs": [],
   "source": [
    "arr=text.reshape(64)"
   ]
  },
  {
   "cell_type": "code",
   "execution_count": 34,
   "metadata": {},
   "outputs": [
    {
     "data": {
      "text/plain": [
       "array([ 4,  5,  6, 10, 11,  6,  5,  4,  2,  2,  2,  2,  2,  2,  2,  2,  1,\n",
       "        1,  1,  1,  1,  1,  1,  1,  1,  1,  1,  1,  1,  1,  1,  1,  1,  1,\n",
       "        1,  1,  1,  1,  1,  1,  1,  1,  1,  1,  1,  1,  1,  1,  3,  3,  3,\n",
       "        3,  3,  3,  3,  3,  7,  8,  9, 12, 13,  9,  8,  7])"
      ]
     },
     "execution_count": 34,
     "metadata": {},
     "output_type": "execute_result"
    }
   ],
   "source": [
    "arr"
   ]
  },
  {
   "cell_type": "code",
   "execution_count": null,
   "metadata": {},
   "outputs": [],
   "source": []
  }
 ],
 "metadata": {
  "kernelspec": {
   "display_name": "Python 3",
   "language": "python",
   "name": "python3"
  },
  "language_info": {
   "codemirror_mode": {
    "name": "ipython",
    "version": 3
   },
   "file_extension": ".py",
   "mimetype": "text/x-python",
   "name": "python",
   "nbconvert_exporter": "python",
   "pygments_lexer": "ipython3",
   "version": "3.9.17"
  },
  "orig_nbformat": 4
 },
 "nbformat": 4,
 "nbformat_minor": 2
}
